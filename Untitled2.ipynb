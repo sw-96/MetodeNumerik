{
  "nbformat": 4,
  "nbformat_minor": 0,
  "metadata": {
    "colab": {
      "name": "Untitled2.ipynb",
      "provenance": [],
      "authorship_tag": "ABX9TyPSzlj4FZXoRgswpE3UwOH1"
    },
    "kernelspec": {
      "name": "python3",
      "display_name": "Python 3"
    },
    "language_info": {
      "name": "python"
    }
  },
  "cells": [
    {
      "cell_type": "code",
      "execution_count": null,
      "metadata": {
        "id": "viTp9CoB7ziw"
      },
      "outputs": [],
      "source": [
        ""
      ]
    },
    {
      "cell_type": "markdown",
      "source": [
        "Hello, how are you today"
      ],
      "metadata": {
        "id": "giRNTYem75gq"
      }
    },
    {
      "cell_type": "markdown",
      "source": [
        "$$\\int e^x dx=e^x+C\\tag{1}$$"
      ],
      "metadata": {
        "id": "ku7k4Xby8BKY"
      }
    },
    {
      "cell_type": "code",
      "source": [
        ""
      ],
      "metadata": {
        "id": "o6BU9mKb7-2N"
      },
      "execution_count": null,
      "outputs": []
    }
  ]
}