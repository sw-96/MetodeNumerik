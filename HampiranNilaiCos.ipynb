{
 "cells": [
  {
   "cell_type": "markdown",
   "id": "969736ae",
   "metadata": {},
   "source": [
    "# Program Hampiran Fungsi Cos"
   ]
  },
  {
   "cell_type": "markdown",
   "id": "cc9b353e",
   "metadata": {},
   "source": [
    "Program ini dibuat dengan menggunakan deret Taylor di sekitar 0 (deret Maclaurin). Bentuk dari hampiran fungsi $\\cos{(x)}$ dalam deret Maclaurin dapat dituliskan sebagai berikut:\n",
    "$$ \\cos{(x)}=1-\\frac{x^2}{2!}+\\frac{x^4}{4!}-\\frac{x^6}{6!}+R_n(x)$$"
   ]
  },
  {
   "cell_type": "markdown",
   "id": "d1930a60",
   "metadata": {},
   "source": [
    "Deret Maclaurin pada dasarnya tak berhingga, namun dengan menetapkan suatu parameter yang berkaitan dengan galat maka perhitungan dari deret tersebut dapat dibatasi sampai suku atau orde tertentu sesuai dengan kriteria yang telah ditetapkan sebelumnya. Parameter tersebut dapat disebut sebagai epsilon yang mewakili nilai suku terakhir dalam deret."
   ]
  },
  {
   "cell_type": "code",
   "execution_count": 66,
   "id": "e392a6ca",
   "metadata": {},
   "outputs": [
    {
     "name": "stdout",
     "output_type": "stream",
     "text": [
      "Hasil hampiran hingga suku ke - 1 adalah 1.0\n",
      "Hasil hampiran hingga suku ke - 2 adalah 0.98\n",
      "Hasil hampiran hingga suku ke - 3 adalah 0.9800666666666666\n",
      "Hasil hampiran hingga suku ke - 4 adalah 0.9800665777777777\n",
      "Hasil akhir hampiran adalah 0.9800666\n"
     ]
    }
   ],
   "source": [
    "import math\n",
    "#Parameter\n",
    "epsilon = 0.00000001 #ini dapat diatur sesuai kebutuhan\n",
    "f = 0\n",
    "suku = 1.0\n",
    "pangkat = 0\n",
    "tanda = 1.0\n",
    "count = 1\n",
    "\n",
    "\n",
    "x = 0.2 #Ini dapat diganti sesuai kebutuhan\n",
    "\n",
    "\n",
    "\n",
    "while suku >= epsilon:\n",
    "    f += tanda*suku\n",
    "    tanda *= -1.0\n",
    "    pangkat += 2\n",
    "    suku = (x**pangkat)/math.factorial(pangkat)\n",
    "    print(\"Hasil hampiran hingga suku ke -\",count, \"adalah\",f)\n",
    "    count += 1\n",
    "    \n",
    "print(\"Hasil akhir hampiran adalah\",round(f,7))\n",
    "     "
   ]
  },
  {
   "cell_type": "markdown",
   "id": "de363744",
   "metadata": {},
   "source": [
    "Untuk nilai $x=0.2$ dan $epsilon = 0.00000001$ hasil akhir yang diperoleh sebesar $cos(0.2)\\approx 0.9800666$"
   ]
  }
 ],
 "metadata": {
  "kernelspec": {
   "display_name": "Python 3 (ipykernel)",
   "language": "python",
   "name": "python3"
  },
  "language_info": {
   "codemirror_mode": {
    "name": "ipython",
    "version": 3
   },
   "file_extension": ".py",
   "mimetype": "text/x-python",
   "name": "python",
   "nbconvert_exporter": "python",
   "pygments_lexer": "ipython3",
   "version": "3.9.7"
  }
 },
 "nbformat": 4,
 "nbformat_minor": 5
}
