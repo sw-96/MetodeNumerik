{
 "cells": [
  {
   "cell_type": "markdown",
   "id": "8ba65f5b",
   "metadata": {},
   "source": [
    "# Program Hampiran Fungsi Cos"
   ]
  },
  {
   "cell_type": "markdown",
   "id": "8a612e4d",
   "metadata": {},
   "source": [
    "Program ini dibuat dengan menggunakan deret Taylor di sekitar 0 (deret Maclaurin). Bentuk dari hampiran fungsi $\\cos{(x)}$ dalam deret Maclaurin dapat dituliskan sebagai berikut:\n",
    "$$ \\cos{(x)}=1-\\frac{x^2}{2!}+\\frac{x^4}{4!}-\\frac{x^6}{6!}+R_n(x)$$"
   ]
  },
  {
   "cell_type": "markdown",
   "id": "a2fecaa4",
   "metadata": {},
   "source": [
    "Deret Maclaurin pada dasarnya tak berhingga, namun dengan menetapkan suatu parameter yang berkaitan dengan galat maka perhitungan dari deret tersebut dapat dibatasi sampai suku atau orde tertentu sesuai dengan kriteria yang telah ditetapkan sebelumnya. Parameter tersebut dapat disebut sebagai epsilon yang mewakili nilai suku terakhir dalam deret."
   ]
  },
  {
   "cell_type": "code",
   "execution_count": null,
   "id": "d75b5453",
   "metadata": {},
   "outputs": [],
   "source": []
  }
 ],
 "metadata": {
  "kernelspec": {
   "display_name": "Python 3 (ipykernel)",
   "language": "python",
   "name": "python3"
  },
  "language_info": {
   "codemirror_mode": {
    "name": "ipython",
    "version": 3
   },
   "file_extension": ".py",
   "mimetype": "text/x-python",
   "name": "python",
   "nbconvert_exporter": "python",
   "pygments_lexer": "ipython3",
   "version": "3.9.7"
  }
 },
 "nbformat": 4,
 "nbformat_minor": 5
}
